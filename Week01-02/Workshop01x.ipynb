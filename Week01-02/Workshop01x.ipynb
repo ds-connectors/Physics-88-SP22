{
 "cells": [
  {
   "cell_type": "markdown",
   "metadata": {},
   "source": [
    "This notebook is an optional tutorial (contains no graded exercises) with a short guide on the text-based interface to the computer known as the \"command line\" which many programmers use almost exclusively when coding."
   ]
  },
  {
   "cell_type": "markdown",
   "metadata": {},
   "source": [
    "## Using Data Science JupyterHub"
   ]
  },
  {
   "cell_type": "markdown",
   "metadata": {},
   "source": [
    "The default environment for the course will be a web-based environment (Jupyter) hosted by the Data Science Initiative (datahub.berkeley.edu). Log in with your @berkeley credentials, or contact the instructors to create an account. "
   ]
  },
  {
   "cell_type": "markdown",
   "metadata": {},
   "source": [
    "## The Terminal / Command Line / Shell"
   ]
  },
  {
   "cell_type": "markdown",
   "metadata": {},
   "source": [
    "You will find it useful to know some basics about the command line (aka terminal or shell) on your computer. The command line lets you navigate around your computer and perform tasks without any graphical user interface---just text. You don't need a mouse to use the command line, just your keyboard. With experience, some people find it faster to use command line tools than graphical tools to do certain things on their computer.\n",
    "\n",
    "So let's dive in! If you're on a Mac or Linux, find and open the Terminal. If you're on Windows, go to your start menu and type \"cmd\" (no quotes), then run it.\n",
    "\n",
    "You'll be faced with a prompt where you can type things in. Press `Enter` to execute whatever you've typed. Try typing these commands (in this order if you'd like!) to get a feel for your terminal. Type `ls` or `dir` occasionally as you change things to see how the contents of your folder have changed.\n",
    "\n",
    "See where you are\n",
    "    - On Mac/Linux:  pwd\n",
    "    - On Windows:    cd\n",
    "\n",
    "See what's in the current directory\n",
    "    - On Mac/Linux:  ls\n",
    "    - On Windows:    dir\n",
    "    \n",
    "Change directories (into the `Documents` directory, for instance)\n",
    "    - On Mac/Linux:  cd Documents\n",
    "    - On Windows:    cd Documents\n",
    "    \n",
    "Go back to the \"parent directory\"\n",
    "    - On Mac/Linux:  cd ..\n",
    "    - On Windows:    cd ..\n",
    "    \n",
    "Make a directory (the directory `fooDirectory`, for instance)\n",
    "    - On Mac/Linux:  mkdir fooDirectory\n",
    "    - On Windows:    mkdir fooDirectory\n",
    "\n",
    "Make another directory!\n",
    "    -                mkdir barDirectory\n",
    "    \n",
    "Move something (move `barDirectory` into `fooDirectory` directory, for instance)\n",
    "    - On Mac/Linux:  mv barDirectory fooDirectory\n",
    "    - On Windows:    move barDirectory fooDirectory\n",
    "\n",
    "Check the contents of a different directory\n",
    "    - On Mac/Linux:  ls fooDirectory\n",
    "    - On Windows:    dir fooDirectory\n",
    "    \n",
    "Change through multiple directories at once\n",
    "    - On Mac/Linux:  cd fooDirectory/barDirectory\n",
    "    - On Windows:    cd fooDirectory\\barDirectory\n",
    "        (notice different slash directions!)\n",
    "\n",
    "Go back to your \"home\" directory\n",
    "    - On Mac/Linux:  cd\n",
    "                or:  cd ~\n",
    "    - On Windows:    cd %userprofile%\n",
    "    \n",
    "Rename something (rename `fooDirectory` into `RenamedDir`, for instance)\n",
    "    - On Mac/Linux:  mv fooDirectory RenamedDir\n",
    "    - On Windows:    move fooDirectory RenamedDir\n",
    "\n",
    "Remove an empty directory (the directory `myDirectory`, for instance)\n",
    "    - On Mac/Linux:  rmdir fooDirectory/barDirectory\n",
    "    - On Windows:    rmdir fooDirectory\\barDirectory\n",
    "    \n",
    "Learn more about a command (the `cd` command, for instance)\n",
    "    - On Mac/Linux:  man cd\n",
    "    - On Windows:    cd /?\n",
    "\n",
    "Print the contents of a file to the terminal (`file.txt`, for instance)\n",
    "    - On Mac/Linux:  cat file.txt\n",
    "    - On Windows:    type file.txt"
   ]
  }
 ],
 "metadata": {
  "kernelspec": {
   "display_name": "Python 3 (ipykernel)",
   "language": "python",
   "name": "python3"
  },
  "language_info": {
   "codemirror_mode": {
    "name": "ipython",
    "version": 3
   },
   "file_extension": ".py",
   "mimetype": "text/x-python",
   "name": "python",
   "nbconvert_exporter": "python",
   "pygments_lexer": "ipython3",
   "version": "3.9.7"
  }
 },
 "nbformat": 4,
 "nbformat_minor": 4
}
