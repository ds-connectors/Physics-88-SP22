{
 "cells": [
  {
   "cell_type": "markdown",
   "metadata": {},
   "source": [
    "# Lecture 8\n",
    "\n",
    "## Numerical Integration"
   ]
  },
  {
   "cell_type": "markdown",
   "metadata": {},
   "source": [
    "Integrate the function $g(t)=exp(−t^2)$ from -3 to 3 using various numerical techniques"
   ]
  },
  {
   "cell_type": "code",
   "execution_count": 1,
   "metadata": {},
   "outputs": [],
   "source": [
    "def Trapezoidal(f, a, b, n):\n",
    "    h = (b-a)/float(n)\n",
    "    s = 0.5*(f(a) + f(b))\n",
    "    for i in range(1,n,1):\n",
    "        s += f(a + i*h)\n",
    "    return h*s"
   ]
  },
  {
   "cell_type": "code",
   "execution_count": 2,
   "metadata": {},
   "outputs": [
    {
     "name": "stdout",
     "output_type": "stream",
     "text": [
      "1.7724146920763713\n"
     ]
    }
   ],
   "source": [
    "import numpy as np\n",
    "from math import exp\n",
    "def g1(t):\n",
    "    return np.exp(-t**2)\n",
    "\n",
    "a = -3;  b = 3\n",
    "n = 1000\n",
    "\n",
    "result1 = Trapezoidal(g1, a, b, n)\n",
    "print (result1)"
   ]
  },
  {
   "cell_type": "code",
   "execution_count": 3,
   "metadata": {},
   "outputs": [
    {
     "name": "stdout",
     "output_type": "stream",
     "text": [
      "1.7724146920763695\n"
     ]
    }
   ],
   "source": [
    "import numpy as np\n",
    "import math\n",
    "#x=np.arange(a, b, (b-a)/n) # incorrect\n",
    "x=np.arange(n+1)*(b-a)/n+a # correct\n",
    "y=np.exp(-(x**2))\n",
    "res1=np.trapz(y,x)\n",
    "print (res1)"
   ]
  },
  {
   "cell_type": "code",
   "execution_count": 4,
   "metadata": {},
   "outputs": [
    {
     "data": {
      "text/plain": [
       "array([-3. , -1.8, -0.6,  0.6,  1.8])"
      ]
     },
     "execution_count": 4,
     "metadata": {},
     "output_type": "execute_result"
    }
   ],
   "source": [
    "np.arange(a, b, (b-a)/5) # incorrect"
   ]
  },
  {
   "cell_type": "code",
   "execution_count": 5,
   "metadata": {},
   "outputs": [
    {
     "data": {
      "text/plain": [
       "array([-3. , -1.8, -0.6,  0.6,  1.8,  3. ])"
      ]
     },
     "execution_count": 5,
     "metadata": {},
     "output_type": "execute_result"
    }
   ],
   "source": [
    "np.arange(5+1)*(b-a)/5 + a # correct"
   ]
  },
  {
   "cell_type": "code",
   "execution_count": 6,
   "metadata": {},
   "outputs": [
    {
     "name": "stdout",
     "output_type": "stream",
     "text": [
      "1.7724146965187224\n"
     ]
    }
   ],
   "source": [
    "def simpson_rule(f, a, b, n): # n must be even!!\n",
    "    h = (b-a)/float(n)\n",
    "    s = (f(a) + f(b))/3\n",
    "    for i in range(1,n,2):\n",
    "        s += (4*f(a + i*h)+2*f(a+(i+1)*h))/3\n",
    "    s -= 2*f(a+(n-1+1)*h)/3 # remove last one\n",
    "    return h*s\n",
    "\n",
    "result3 = simpson_rule(g1, a, b, n)\n",
    "print (result3)"
   ]
  },
  {
   "cell_type": "code",
   "execution_count": 7,
   "metadata": {},
   "outputs": [
    {
     "name": "stdout",
     "output_type": "stream",
     "text": [
      "1.7724146965187226\n"
     ]
    }
   ],
   "source": [
    "from scipy.integrate import simps # Simpson’s rule\n",
    "import numpy as np\n",
    "x=np.arange(a, b, (b-a)/n)\n",
    "x=np.arange(n+1)*(b-a)/n+a # should be correct\n",
    "y=np.exp(-(x**2))\n",
    "res3=simps(y,x)\n",
    "print (res3)"
   ]
  },
  {
   "cell_type": "code",
   "execution_count": 8,
   "metadata": {},
   "outputs": [
    {
     "name": "stdout",
     "output_type": "stream",
     "text": [
      "1.7724146965190428 +/- 6.353644780437984e-11\n"
     ]
    }
   ],
   "source": [
    "from scipy.integrate import quad # technique from the Fortran library QUADPACK\n",
    "\n",
    "res4,eps=quad(g1,a,b)\n",
    "print (res4, \"+/-\", eps)\n"
   ]
  },
  {
   "cell_type": "code",
   "execution_count": 9,
   "metadata": {},
   "outputs": [
    {
     "name": "stdout",
     "output_type": "stream",
     "text": [
      "Trapezoid Rule              =  1.7724146920763713\n",
      "Builtin Trapezoid           =  1.7724146920763695\n",
      "Simpsons Rule               =  1.7724146965187224\n",
      "Builtin Simpsons Rule       =  1.7724146965187226\n",
      "Builtin Gaussian Quadrature =  1.7724146965190428\n"
     ]
    }
   ],
   "source": [
    "print ('Trapezoid Rule              = ', result1)\n",
    "print ('Builtin Trapezoid           = ', res1)\n",
    "print ('Simpsons Rule               = ', result3)\n",
    "print ('Builtin Simpsons Rule       = ', res3)\n",
    "print ('Builtin Gaussian Quadrature = ', res4)"
   ]
  },
  {
   "cell_type": "code",
   "execution_count": 10,
   "metadata": {},
   "outputs": [
    {
     "name": "stdout",
     "output_type": "stream",
     "text": [
      "Error Trapezoid          =  -2.506564178439419e-09\n",
      "Error Builtin Trapezoid  =  -2.506565177640141e-09\n",
      "Error Simpsons Rule      =  -1.8052226380405045e-13\n",
      "Error Builtin Simpsons   =  -1.8041124150158794e-13\n",
      "Error Builtin Gauss Quad =  2.220446049250313e-16\n"
     ]
    }
   ],
   "source": [
    "from math import sqrt, erf, pi\n",
    "\n",
    "answer = sqrt(pi)*erf(3.) \n",
    "print('Error Trapezoid          = ',result1/answer-1)\n",
    "print('Error Builtin Trapezoid  = ',res1/answer-1)\n",
    "print('Error Simpsons Rule      = ',result3/answer-1)\n",
    "print('Error Builtin Simpsons   = ',res3/answer-1)\n",
    "print('Error Builtin Gauss Quad = ',res4/answer-1)"
   ]
  },
  {
   "cell_type": "code",
   "execution_count": null,
   "metadata": {},
   "outputs": [],
   "source": []
  }
 ],
 "metadata": {
  "kernelspec": {
   "display_name": "Python 3 (ipykernel)",
   "language": "python",
   "name": "python3"
  },
  "language_info": {
   "codemirror_mode": {
    "name": "ipython",
    "version": 3
   },
   "file_extension": ".py",
   "mimetype": "text/x-python",
   "name": "python",
   "nbconvert_exporter": "python",
   "pygments_lexer": "ipython3",
   "version": "3.9.7"
  }
 },
 "nbformat": 4,
 "nbformat_minor": 4
}
